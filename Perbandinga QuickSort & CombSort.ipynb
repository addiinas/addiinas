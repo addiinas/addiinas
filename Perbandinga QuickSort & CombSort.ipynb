{
  "nbformat": 4,
  "nbformat_minor": 0,
  "metadata": {
    "colab": {
      "name": "Untitled0.ipynb",
      "provenance": []
    },
    "kernelspec": {
      "name": "python3",
      "display_name": "Python 3"
    },
    "language_info": {
      "name": "python"
    }
  },
  "cells": [
    {
      "cell_type": "code",
      "execution_count": 3,
      "metadata": {
        "colab": {
          "base_uri": "https://localhost:8080/",
          "height": 382
        },
        "id": "oLjE4-XXwMLp",
        "outputId": "5c4295f1-5a68-4e87-974a-60cdb5e2a49f"
      },
      "outputs": [
        {
          "output_type": "stream",
          "name": "stdout",
          "text": [
            "       Comb Sort  Quick Sort\n",
            "10      0.000046    0.000058\n",
            "100     0.000213    0.001228\n",
            "1000    0.003919    0.128603\n",
            "10000   0.055653   15.114234\n"
          ]
        },
        {
          "output_type": "display_data",
          "data": {
            "image/png": "[encoded data removed]",
            "text/plain": [
              "<Figure size 432x288 with 1 Axes>"
            ]
          },
          "metadata": {
            "needs_background": "light"
          }
        }
      ],
      "source": [
        "import random\n",
        "import timeit\n",
        "import matplotlib.pyplot as plt\n",
        "import pandas as pd\n",
        "import sys\n",
        "sys.setrecursionlimit(150000)\n",
        "\n",
        "#https://www.programiz.com/dsa/quick-sort\n",
        "def partition(array, low, high):\n",
        "  pivot = array[high]\n",
        "  i = low - 1\n",
        "  for j in range(low, high):\n",
        "    if array[j] <= pivot:\n",
        "      i = i + 1\n",
        "      (array[i], array[j]) = (array[j], array[i])\n",
        "  (array[i + 1], array[high]) = (array[high], array[i + 1])\n",
        "  return i + 1\n",
        "\n",
        "def quickSort(array, low, high):\n",
        "  if low < high:\n",
        "    pi = partition(array, low, high)\n",
        "    quickSort(array, low, pi - 1)\n",
        "    quickSort(array, pi + 1, high)\n",
        "\n",
        "\n",
        "\n",
        "#https://www.geeksforgeeks.org/comb-sort/\n",
        "def getNextGap(gap):\n",
        "    gap = (gap * 10)//13\n",
        "    if gap < 1:\n",
        "        return 1\n",
        "    return gap\n",
        "\n",
        "def combSort(arr, n):\n",
        "    gap = n\n",
        "    swapped = True\n",
        "    while gap !=1 or swapped == 1:\n",
        "        gap = getNextGap(gap)\n",
        "        swapped = False\n",
        "        for i in range(0, n-gap):\n",
        "            if arr[i] > arr[i + gap]:\n",
        "                arr[i], arr[i + gap]=arr[i + gap], arr[i]\n",
        "                swapped = True\n",
        " \n",
        "\n",
        "N = 10\n",
        "arr = list(range(1, N + 1))\n",
        "random.shuffle(arr)\n",
        "start = timeit.default_timer()\n",
        "combSort(arr, N)\n",
        "stop = timeit.default_timer()\n",
        "execution_time = stop - start\n",
        "start1 = timeit.default_timer()\n",
        "quickSort(arr, 0, N-1)\n",
        "stop1 = timeit.default_timer()\n",
        "execution_time1 = stop1 - start1\n",
        "\n",
        "N = 100\n",
        "arr = list(range(1, N + 1))\n",
        "random.shuffle(arr)\n",
        "start = timeit.default_timer()\n",
        "combSort(arr, N)\n",
        "stop = timeit.default_timer()\n",
        "execution_time2 = stop - start\n",
        "start1 = timeit.default_timer()\n",
        "quickSort(arr, 0, N-1)\n",
        "stop1 = timeit.default_timer()\n",
        "execution_time3 = stop1 - start1\n",
        "\n",
        "N = 1000\n",
        "arr = list(range(1, N + 1))\n",
        "random.shuffle(arr)\n",
        "start = timeit.default_timer()\n",
        "combSort(arr, N)\n",
        "stop = timeit.default_timer()\n",
        "execution_time4 = stop - start\n",
        "start1 = timeit.default_timer()\n",
        "quickSort(arr, 0, N-1)\n",
        "stop1 = timeit.default_timer()\n",
        "execution_time5 = stop1 - start1\n",
        "\n",
        "N = 10000\n",
        "arr = list(range(1, N + 1))\n",
        "random.shuffle(arr)\n",
        "start = timeit.default_timer()\n",
        "combSort(arr, N)\n",
        "stop = timeit.default_timer()\n",
        "execution_time6 = stop - start\n",
        "start1 = timeit.default_timer()\n",
        "quickSort(arr, 0, N-1)\n",
        "stop1 = timeit.default_timer()\n",
        "execution_time7 = stop1 - start1\n",
        "\n",
        "#N = 100000\n",
        "#arr = list(range(1, N + 1))\n",
        "#random.shuffle(arr)\n",
        "#start = timeit.default_timer()\n",
        "#combSort(arr, N)\n",
        "#stop = timeit.default_timer()\n",
        "#execution_time8 = stop - start\n",
        "#start1 = timeit.default_timer()\n",
        "#quickSort(arr, 0, N-1)\n",
        "#stop1 = timeit.default_timer()\n",
        "#execution_time9 = stop1 - start1\n",
        "\n",
        "xb = [10, 100, 1000, 10000]\n",
        "yb = [execution_time, execution_time2, execution_time4, execution_time6]\n",
        "\n",
        "xs = [10, 100, 1000, 10000]\n",
        "ys = [execution_time1, execution_time3, execution_time5, execution_time7]\n",
        "\n",
        "df = pd.DataFrame(list(zip(yb, ys)), index =['10', '100', '1000', '10000'], columns =['Comb Sort', 'Quick Sort'])\n",
        "print(df)\n",
        "\n",
        "plt.plot(xb, yb, label=\"Comb Sort\")\n",
        "plt.plot(xs, ys, label=\"Quick Sort\")\n",
        "plt.xlabel('n')\n",
        "plt.ylabel('waktu(detik)')\n",
        "plt.title('Perbandingan runtime sorting')\n",
        "plt.legend()\n",
        "plt.show()"
      ]
    }
  ]
}